{
 "cells": [
  {
   "cell_type": "code",
   "execution_count": 3,
   "metadata": {},
   "outputs": [],
   "source": [
    "import json\n",
    "\n",
    "# Input and output file paths\n",
    "input_file = \"hotpotqa_similarity_annotations.jsonl\"\n",
    "output_file = \"filtered_hotpotqa.jsonl\"\n",
    "\n",
    "def find_first_unsupported_rows(input_file, output_file):\n",
    "    # Initialize an empty list to store filtered rows\n",
    "    filtered_rows = []\n",
    "\n",
    "    # Read the JSONL file\n",
    "    with open(input_file, 'r') as infile:\n",
    "        data = json.load(infile)[\"data\"]  # Load the data key from the JSON file\n",
    "\n",
    "        # Loop through each row in the data\n",
    "        for row in data:\n",
    "            # Check the annotation of the first claim\n",
    "            if len(row[\"claims\"]) > 0 and row[\"claims\"][0][\"annotation\"] != \"S\":\n",
    "                filtered_rows.append(row)\n",
    "\n",
    "    # Write the filtered rows to a new JSONL file\n",
    "    with open(output_file, 'w') as outfile:\n",
    "        json.dump({\"data\": filtered_rows}, outfile, indent=2)\n",
    "\n",
    "find_first_unsupported_rows(input_file, output_file)\n",
    "\n"
   ]
  },
  {
   "cell_type": "code",
   "execution_count": 8,
   "metadata": {},
   "outputs": [],
   "source": [
    "#Add answer to filtered file\n",
    "filtered_file = \"filtered_hotpotqa.jsonl\"\n",
    "answer_file = \"../index_store/conformalhotpot500/hotpot_calibrate_score_500.jsonl\"\n",
    "\n",
    "def add_answer_to_filtered_file(filtered_file, answer_file):\n",
    "    # Load the filtered data\n",
    "    with open(filtered_file, 'r') as infile:\n",
    "        filtered_data = json.load(infile)[\"data\"]\n",
    "\n",
    "    # Load the answer data\n",
    "    with open(answer_file, 'r') as infile:\n",
    "        answer_data = [json.loads(line) for line in infile.readlines()]\n",
    "\n",
    "    # Create a dictionary mapping question IDs to answers\n",
    "    answer_dict = {row[\"query\"]: row[\"answer\"] for row in answer_data}\n",
    "\n",
    "    # Add the answer to each row in the filtered data\n",
    "    for row in filtered_data:\n",
    "        row_ordered = {\n",
    "            \"prompt\": row[\"prompt\"],\n",
    "            \"answer\": answer_dict.get(row[\"prompt\"], \"No answer\"),\n",
    "            \"original-output\": row[\"original-output\"],\n",
    "            \"claims\": row[\"claims\"],\n",
    "        }\n",
    "        # Update the row in the list\n",
    "        row.clear()\n",
    "        row.update(row_ordered)\n",
    "\n",
    "    # Write the updated data to a new JSONL file\n",
    "    with open(filtered_file, 'w') as outfile:\n",
    "        json.dump({\"data\": filtered_data}, outfile, indent=2)\n",
    "\n",
    "add_answer_to_filtered_file(filtered_file, answer_file)"
   ]
  },
  {
   "cell_type": "code",
   "execution_count": null,
   "metadata": {},
   "outputs": [],
   "source": []
  }
 ],
 "metadata": {
  "kernelspec": {
   "display_name": "py3-11-conformal",
   "language": "python",
   "name": "python3"
  },
  "language_info": {
   "codemirror_mode": {
    "name": "ipython",
    "version": 3
   },
   "file_extension": ".py",
   "mimetype": "text/x-python",
   "name": "python",
   "nbconvert_exporter": "python",
   "pygments_lexer": "ipython3",
   "version": "3.11.11"
  }
 },
 "nbformat": 4,
 "nbformat_minor": 2
}
