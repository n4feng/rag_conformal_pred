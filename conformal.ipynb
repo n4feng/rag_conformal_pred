{
 "cells": [
  {
   "cell_type": "code",
   "execution_count": 6,
   "metadata": {},
   "outputs": [
    {
     "name": "stdout",
     "output_type": "stream",
     "text": [
      "Computing scores for subclaims. These will appear in out/popqa_llm_subclaims_with_scores.jsonl\n",
      "Producing conformal plot: out/popqa_llm_raw_a=0.95_fig.png\n"
     ]
    },
    {
     "name": "stderr",
     "output_type": "stream",
     "text": [
      "  0%|          | 0/1 [00:04<?, ?it/s]\n"
     ]
    },
    {
     "ename": "KeyboardInterrupt",
     "evalue": "",
     "output_type": "error",
     "traceback": [
      "\u001b[0;31m---------------------------------------------------------------------------\u001b[0m",
      "\u001b[0;31mKeyboardInterrupt\u001b[0m                         Traceback (most recent call last)",
      "Cell \u001b[0;32mIn[6], line 39\u001b[0m\n\u001b[1;32m     36\u001b[0m dataset_name \u001b[38;5;241m=\u001b[39m \u001b[38;5;124m\"\u001b[39m\u001b[38;5;124m\"\u001b[39m\n\u001b[1;32m     37\u001b[0m dataset_prefix \u001b[38;5;241m=\u001b[39m \u001b[38;5;124m\"\u001b[39m\u001b[38;5;124mpopqa_llm\u001b[39m\u001b[38;5;124m\"\u001b[39m\n\u001b[0;32m---> 39\u001b[0m \u001b[43manalyze_dataset\u001b[49m\u001b[43m(\u001b[49m\n\u001b[1;32m     40\u001b[0m \u001b[43m    \u001b[49m\u001b[43mdataset_prefix\u001b[49m\u001b[43m,\u001b[49m\n\u001b[1;32m     41\u001b[0m \u001b[43m    \u001b[49m\u001b[43mdataset_name\u001b[49m\u001b[43m,\u001b[49m\n\u001b[1;32m     42\u001b[0m \u001b[43m    \u001b[49m\u001b[43mOPENAI_CLIENT\u001b[49m\u001b[43m,\u001b[49m\n\u001b[1;32m     43\u001b[0m \u001b[43m    \u001b[49m\u001b[43mMODEL\u001b[49m\u001b[43m,\u001b[49m\n\u001b[1;32m     44\u001b[0m \u001b[43m    \u001b[49m\u001b[43mBREAKDOWN_PROMPT\u001b[49m\u001b[43m,\u001b[49m\n\u001b[1;32m     45\u001b[0m \u001b[43m    \u001b[49m\u001b[43mCONFIDENCE_METHOD\u001b[49m\u001b[43m,\u001b[49m\n\u001b[1;32m     46\u001b[0m \u001b[43m    \u001b[49m\u001b[43mCONFIDENCE_METHODS_RAW\u001b[49m\u001b[43m,\u001b[49m\n\u001b[1;32m     47\u001b[0m \u001b[43m    \u001b[49m\u001b[43mCONFIDENCE_METHODS_RANKING\u001b[49m\u001b[43m,\u001b[49m\n\u001b[1;32m     48\u001b[0m \u001b[43m    \u001b[49m\u001b[43mALPHA\u001b[49m\u001b[43m,\u001b[49m\n\u001b[1;32m     49\u001b[0m \u001b[43m    \u001b[49m\u001b[43mALPHAS\u001b[49m\u001b[43m,\u001b[49m\n\u001b[1;32m     50\u001b[0m \u001b[43m    \u001b[49m\u001b[43mREQUIRED_FRAC_CORRECT\u001b[49m\u001b[43m,\u001b[49m\n\u001b[1;32m     51\u001b[0m \u001b[43m    \u001b[49m\u001b[43mmerge\u001b[49m\u001b[38;5;241;43m=\u001b[39;49m\u001b[38;5;28;43;01mFalse\u001b[39;49;00m\u001b[43m,\u001b[49m\n\u001b[1;32m     52\u001b[0m \u001b[43m    \u001b[49m\u001b[43mcompute_single_threshold\u001b[49m\u001b[38;5;241;43m=\u001b[39;49m\u001b[38;5;28;43;01mTrue\u001b[39;49;00m\u001b[43m,\u001b[49m\n\u001b[1;32m     53\u001b[0m \u001b[43m    \u001b[49m\u001b[43mcreate_plots\u001b[49m\u001b[38;5;241;43m=\u001b[39;49m\u001b[38;5;28;43;01mTrue\u001b[39;49;00m\u001b[43m,\u001b[49m\n\u001b[1;32m     54\u001b[0m \u001b[43m    \u001b[49m\u001b[43mcreate_histogram\u001b[49m\u001b[38;5;241;43m=\u001b[39;49m\u001b[38;5;28;43;01mFalse\u001b[39;49;00m\u001b[43m,\u001b[49m\n\u001b[1;32m     55\u001b[0m \u001b[43m    \u001b[49m\u001b[43mcalib\u001b[49m\u001b[38;5;241;43m=\u001b[39;49m\u001b[38;5;28;43;01mTrue\u001b[39;49;00m\u001b[43m,\u001b[49m\n\u001b[1;32m     56\u001b[0m \u001b[43m\u001b[49m\u001b[43m)\u001b[49m\n",
      "File \u001b[0;32m~/Documents/2025/study/layer6/rag_conformal_pred/conformal/calibrate_thresh.py:606\u001b[0m, in \u001b[0;36manalyze_dataset\u001b[0;34m(dataset_prefix, input_dataset, openai_client, model, breakdown_prompt, confidence_method, confidence_methods_raw, confidence_methods_ranking, alpha, alphas, a, compute_single_threshold, merge, create_plots, create_histogram, calib, merge_prompt)\u001b[0m\n\u001b[1;32m    593\u001b[0m     generate_merged_outputs(\n\u001b[1;32m    594\u001b[0m         calibration_data,\n\u001b[1;32m    595\u001b[0m         alpha,\n\u001b[0;32m   (...)\u001b[0m\n\u001b[1;32m    601\u001b[0m         merge_prompt,\n\u001b[1;32m    602\u001b[0m     )\n\u001b[1;32m    604\u001b[0m \u001b[38;5;28;01mif\u001b[39;00m create_plots:\n\u001b[1;32m    605\u001b[0m     \u001b[38;5;66;03m# Create plots for ALPHAS, CONFIDENCE_METHODS_RAW, CONFIDENCE_METHODS_RANKING.\u001b[39;00m\n\u001b[0;32m--> 606\u001b[0m     \u001b[43mcreate_correctness_vs_removed_plot\u001b[49m\u001b[43m(\u001b[49m\n\u001b[1;32m    607\u001b[0m \u001b[43m        \u001b[49m\u001b[43mdataset_prefix\u001b[49m\u001b[43m,\u001b[49m\n\u001b[1;32m    608\u001b[0m \u001b[43m        \u001b[49m\u001b[43mcalibration_data\u001b[49m\u001b[43m,\u001b[49m\n\u001b[1;32m    609\u001b[0m \u001b[43m        \u001b[49m\u001b[43malphas\u001b[49m\u001b[43m,\u001b[49m\n\u001b[1;32m    610\u001b[0m \u001b[43m        \u001b[49m\u001b[43ma\u001b[49m\u001b[43m,\u001b[49m\n\u001b[1;32m    611\u001b[0m \u001b[43m        \u001b[49m\u001b[43mconfidence_methods_raw\u001b[49m\u001b[43m,\u001b[49m\n\u001b[1;32m    612\u001b[0m \u001b[43m        \u001b[49m\u001b[38;5;124;43mf\u001b[39;49m\u001b[38;5;124;43m\"\u001b[39;49m\u001b[38;5;124;43mout/\u001b[39;49m\u001b[38;5;132;43;01m{\u001b[39;49;00m\u001b[43mdataset_prefix\u001b[49m\u001b[38;5;132;43;01m}\u001b[39;49;00m\u001b[38;5;124;43m_raw_a=\u001b[39;49m\u001b[38;5;132;43;01m{\u001b[39;49;00m\u001b[43ma\u001b[49m\u001b[38;5;132;43;01m}\u001b[39;49;00m\u001b[38;5;124;43m_fig.png\u001b[39;49m\u001b[38;5;124;43m\"\u001b[39;49m\u001b[43m,\u001b[49m\n\u001b[1;32m    613\u001b[0m \u001b[43m    \u001b[49m\u001b[43m)\u001b[49m\n\u001b[1;32m    614\u001b[0m     create_correctness_vs_removed_plot(\n\u001b[1;32m    615\u001b[0m         dataset_prefix,\n\u001b[1;32m    616\u001b[0m         calibration_data,\n\u001b[0;32m   (...)\u001b[0m\n\u001b[1;32m    620\u001b[0m         \u001b[38;5;124mf\u001b[39m\u001b[38;5;124m\"\u001b[39m\u001b[38;5;124mout/\u001b[39m\u001b[38;5;132;01m{\u001b[39;00mdataset_prefix\u001b[38;5;132;01m}\u001b[39;00m\u001b[38;5;124m_ranking_a=\u001b[39m\u001b[38;5;132;01m{\u001b[39;00ma\u001b[38;5;132;01m}\u001b[39;00m\u001b[38;5;124m_fig.png\u001b[39m\u001b[38;5;124m\"\u001b[39m,\n\u001b[1;32m    621\u001b[0m     )\n\u001b[1;32m    623\u001b[0m \u001b[38;5;28;01mif\u001b[39;00m calib:\n\u001b[1;32m    624\u001b[0m     \u001b[38;5;66;03m# Create calibration plots for ALPHAS, CONFIDENCE_METHODS_RAW, CONFIDENCE_METHODS_RANKING.\u001b[39;00m\n",
      "File \u001b[0;32m~/Documents/2025/study/layer6/rag_conformal_pred/conformal/calibrate_thresh.py:229\u001b[0m, in \u001b[0;36mcreate_correctness_vs_removed_plot\u001b[0;34m(dataset_prefix, data, alphas, a, confidence_methods, fig_filename)\u001b[0m\n\u001b[1;32m    226\u001b[0m calibration_data \u001b[38;5;241m=\u001b[39m data[:i] \u001b[38;5;241m+\u001b[39m data[i \u001b[38;5;241m+\u001b[39m \u001b[38;5;241m1\u001b[39m :]\n\u001b[1;32m    227\u001b[0m test_data \u001b[38;5;241m=\u001b[39m data[i]\n\u001b[0;32m--> 229\u001b[0m threshold \u001b[38;5;241m=\u001b[39m \u001b[43mcompute_threshold\u001b[49m\u001b[43m(\u001b[49m\n\u001b[1;32m    230\u001b[0m \u001b[43m    \u001b[49m\u001b[43malpha\u001b[49m\u001b[43m,\u001b[49m\u001b[43m \u001b[49m\u001b[43mcalibration_data\u001b[49m\u001b[43m,\u001b[49m\u001b[43m \u001b[49m\u001b[43ma\u001b[49m\u001b[43m,\u001b[49m\u001b[43m \u001b[49m\u001b[43mconfidence_method\u001b[49m\n\u001b[1;32m    231\u001b[0m \u001b[43m\u001b[49m\u001b[43m)\u001b[49m\n\u001b[1;32m    232\u001b[0m accepted_subclaims \u001b[38;5;241m=\u001b[39m [\n\u001b[1;32m    233\u001b[0m     subclaim\n\u001b[1;32m    234\u001b[0m     \u001b[38;5;28;01mfor\u001b[39;00m subclaim \u001b[38;5;129;01min\u001b[39;00m test_data[\u001b[38;5;124m\"\u001b[39m\u001b[38;5;124mclaims\u001b[39m\u001b[38;5;124m\"\u001b[39m]\n\u001b[1;32m    235\u001b[0m     \u001b[38;5;28;01mif\u001b[39;00m subclaim[confidence_method \u001b[38;5;241m+\u001b[39m \u001b[38;5;124m\"\u001b[39m\u001b[38;5;124m-score\u001b[39m\u001b[38;5;124m\"\u001b[39m] \u001b[38;5;241m+\u001b[39m subclaim[\u001b[38;5;124m\"\u001b[39m\u001b[38;5;124mnoise\u001b[39m\u001b[38;5;124m\"\u001b[39m]\n\u001b[1;32m    236\u001b[0m     \u001b[38;5;241m>\u001b[39m\u001b[38;5;241m=\u001b[39m threshold\n\u001b[1;32m    237\u001b[0m ]\n\u001b[1;32m    238\u001b[0m total_claim \u001b[38;5;241m=\u001b[39m \u001b[38;5;28mlen\u001b[39m(test_data[\u001b[38;5;124m\"\u001b[39m\u001b[38;5;124mclaims\u001b[39m\u001b[38;5;124m\"\u001b[39m])\n",
      "File \u001b[0;32m~/Documents/2025/study/layer6/rag_conformal_pred/conformal/calibrate_thresh.py:202\u001b[0m, in \u001b[0;36mcompute_threshold\u001b[0;34m(alpha, calibration_data, a, confidence_method)\u001b[0m\n\u001b[1;32m    194\u001b[0m \u001b[38;5;250m\u001b[39m\u001b[38;5;124;03m\"\"\"\u001b[39;00m\n\u001b[1;32m    195\u001b[0m \u001b[38;5;124;03mComputes the quantile/threshold from conformal prediction.\u001b[39;00m\n\u001b[1;32m    196\u001b[0m \u001b[38;5;124;03m# alpha: float in (0, 1)\u001b[39;00m\n\u001b[0;32m   (...)\u001b[0m\n\u001b[1;32m    199\u001b[0m \u001b[38;5;124;03m# confidence_method: string\u001b[39;00m\n\u001b[1;32m    200\u001b[0m \u001b[38;5;124;03m\"\"\"\u001b[39;00m\n\u001b[1;32m    201\u001b[0m \u001b[38;5;66;03m# Compute r score for each example.\u001b[39;00m\n\u001b[0;32m--> 202\u001b[0m r_scores \u001b[38;5;241m=\u001b[39m \u001b[43m[\u001b[49m\u001b[43mget_r_score\u001b[49m\u001b[43m(\u001b[49m\u001b[43mentry\u001b[49m\u001b[43m,\u001b[49m\u001b[43m \u001b[49m\u001b[43mconfidence_method\u001b[49m\u001b[43m,\u001b[49m\u001b[43m \u001b[49m\u001b[43ma\u001b[49m\u001b[43m)\u001b[49m\u001b[43m \u001b[49m\u001b[38;5;28;43;01mfor\u001b[39;49;00m\u001b[43m \u001b[49m\u001b[43mentry\u001b[49m\u001b[43m \u001b[49m\u001b[38;5;129;43;01min\u001b[39;49;00m\u001b[43m \u001b[49m\u001b[43mcalibration_data\u001b[49m\u001b[43m]\u001b[49m\n\u001b[1;32m    204\u001b[0m \u001b[38;5;66;03m# Compute threshold for conformal prection. The quantile is ceil((n+1)*(1-alpha))/n, and\u001b[39;00m\n\u001b[1;32m    205\u001b[0m \u001b[38;5;66;03m# We map this to the index by dropping the division by n and subtracting one (for zero-index).\u001b[39;00m\n\u001b[1;32m    206\u001b[0m quantile_target_index \u001b[38;5;241m=\u001b[39m ceil((\u001b[38;5;28mlen\u001b[39m(r_scores) \u001b[38;5;241m+\u001b[39m \u001b[38;5;241m1\u001b[39m) \u001b[38;5;241m*\u001b[39m (\u001b[38;5;241m1\u001b[39m \u001b[38;5;241m-\u001b[39m alpha))\n",
      "File \u001b[0;32m~/Documents/2025/study/layer6/rag_conformal_pred/conformal/calibrate_thresh.py:202\u001b[0m, in \u001b[0;36m<listcomp>\u001b[0;34m(.0)\u001b[0m\n\u001b[1;32m    194\u001b[0m \u001b[38;5;250m\u001b[39m\u001b[38;5;124;03m\"\"\"\u001b[39;00m\n\u001b[1;32m    195\u001b[0m \u001b[38;5;124;03mComputes the quantile/threshold from conformal prediction.\u001b[39;00m\n\u001b[1;32m    196\u001b[0m \u001b[38;5;124;03m# alpha: float in (0, 1)\u001b[39;00m\n\u001b[0;32m   (...)\u001b[0m\n\u001b[1;32m    199\u001b[0m \u001b[38;5;124;03m# confidence_method: string\u001b[39;00m\n\u001b[1;32m    200\u001b[0m \u001b[38;5;124;03m\"\"\"\u001b[39;00m\n\u001b[1;32m    201\u001b[0m \u001b[38;5;66;03m# Compute r score for each example.\u001b[39;00m\n\u001b[0;32m--> 202\u001b[0m r_scores \u001b[38;5;241m=\u001b[39m [\u001b[43mget_r_score\u001b[49m\u001b[43m(\u001b[49m\u001b[43mentry\u001b[49m\u001b[43m,\u001b[49m\u001b[43m \u001b[49m\u001b[43mconfidence_method\u001b[49m\u001b[43m,\u001b[49m\u001b[43m \u001b[49m\u001b[43ma\u001b[49m\u001b[43m)\u001b[49m \u001b[38;5;28;01mfor\u001b[39;00m entry \u001b[38;5;129;01min\u001b[39;00m calibration_data]\n\u001b[1;32m    204\u001b[0m \u001b[38;5;66;03m# Compute threshold for conformal prection. The quantile is ceil((n+1)*(1-alpha))/n, and\u001b[39;00m\n\u001b[1;32m    205\u001b[0m \u001b[38;5;66;03m# We map this to the index by dropping the division by n and subtracting one (for zero-index).\u001b[39;00m\n\u001b[1;32m    206\u001b[0m quantile_target_index \u001b[38;5;241m=\u001b[39m ceil((\u001b[38;5;28mlen\u001b[39m(r_scores) \u001b[38;5;241m+\u001b[39m \u001b[38;5;241m1\u001b[39m) \u001b[38;5;241m*\u001b[39m (\u001b[38;5;241m1\u001b[39m \u001b[38;5;241m-\u001b[39m alpha))\n",
      "File \u001b[0;32m~/Documents/2025/study/layer6/rag_conformal_pred/conformal/calibrate_thresh.py:178\u001b[0m, in \u001b[0;36mget_r_score\u001b[0;34m(entry, confidence_method, a)\u001b[0m\n\u001b[1;32m    170\u001b[0m accepted_subclaims \u001b[38;5;241m=\u001b[39m [\n\u001b[1;32m    171\u001b[0m     subclaim\n\u001b[1;32m    172\u001b[0m     \u001b[38;5;28;01mfor\u001b[39;00m subclaim \u001b[38;5;129;01min\u001b[39;00m entry[\u001b[38;5;124m\"\u001b[39m\u001b[38;5;124mclaims\u001b[39m\u001b[38;5;124m\"\u001b[39m]\n\u001b[1;32m    173\u001b[0m     \u001b[38;5;28;01mif\u001b[39;00m subclaim[confidence_method \u001b[38;5;241m+\u001b[39m \u001b[38;5;124m\"\u001b[39m\u001b[38;5;124m-score\u001b[39m\u001b[38;5;124m\"\u001b[39m] \u001b[38;5;241m+\u001b[39m subclaim[\u001b[38;5;124m\"\u001b[39m\u001b[38;5;124mnoise\u001b[39m\u001b[38;5;124m\"\u001b[39m] \u001b[38;5;241m>\u001b[39m\u001b[38;5;241m=\u001b[39m threshold\n\u001b[1;32m    174\u001b[0m ]\n\u001b[1;32m    176\u001b[0m \u001b[38;5;66;03m# Compute entailed/correct fraction.\u001b[39;00m\n\u001b[1;32m    177\u001b[0m entailed_fraction \u001b[38;5;241m=\u001b[39m (\n\u001b[0;32m--> 178\u001b[0m     \u001b[43mnp\u001b[49m\u001b[38;5;241;43m.\u001b[39;49m\u001b[43mmean\u001b[49m\u001b[43m(\u001b[49m\n\u001b[1;32m    179\u001b[0m \u001b[43m        \u001b[49m\u001b[43m[\u001b[49m\n\u001b[1;32m    180\u001b[0m \u001b[43m            \u001b[49m\u001b[43msubclaim\u001b[49m\u001b[43m[\u001b[49m\u001b[38;5;124;43m\"\u001b[39;49m\u001b[38;5;124;43mannotation\u001b[39;49m\u001b[38;5;124;43m\"\u001b[39;49m\u001b[43m]\u001b[49m\u001b[43m \u001b[49m\u001b[38;5;129;43;01min\u001b[39;49;00m\u001b[43m \u001b[49m\u001b[43mCORRECT_ANNOTATIONS\u001b[49m\n\u001b[1;32m    181\u001b[0m \u001b[43m            \u001b[49m\u001b[38;5;28;43;01mfor\u001b[39;49;00m\u001b[43m \u001b[49m\u001b[43msubclaim\u001b[49m\u001b[43m \u001b[49m\u001b[38;5;129;43;01min\u001b[39;49;00m\u001b[43m \u001b[49m\u001b[43maccepted_subclaims\u001b[49m\n\u001b[1;32m    182\u001b[0m \u001b[43m        \u001b[49m\u001b[43m]\u001b[49m\n\u001b[1;32m    183\u001b[0m \u001b[43m    \u001b[49m\u001b[43m)\u001b[49m\n\u001b[1;32m    184\u001b[0m     \u001b[38;5;28;01mif\u001b[39;00m accepted_subclaims\n\u001b[1;32m    185\u001b[0m     \u001b[38;5;28;01melse\u001b[39;00m \u001b[38;5;241m1\u001b[39m\n\u001b[1;32m    186\u001b[0m )\n\u001b[1;32m    188\u001b[0m \u001b[38;5;28;01mif\u001b[39;00m entailed_fraction \u001b[38;5;241m<\u001b[39m a:\n\u001b[1;32m    189\u001b[0m     \u001b[38;5;28;01mreturn\u001b[39;00m curr_threshold\n",
      "File \u001b[0;32m/opt/anaconda3/envs/py3-11-conformal/lib/python3.11/site-packages/numpy/core/fromnumeric.py:3504\u001b[0m, in \u001b[0;36mmean\u001b[0;34m(a, axis, dtype, out, keepdims, where)\u001b[0m\n\u001b[1;32m   3501\u001b[0m     \u001b[38;5;28;01melse\u001b[39;00m:\n\u001b[1;32m   3502\u001b[0m         \u001b[38;5;28;01mreturn\u001b[39;00m mean(axis\u001b[38;5;241m=\u001b[39maxis, dtype\u001b[38;5;241m=\u001b[39mdtype, out\u001b[38;5;241m=\u001b[39mout, \u001b[38;5;241m*\u001b[39m\u001b[38;5;241m*\u001b[39mkwargs)\n\u001b[0;32m-> 3504\u001b[0m \u001b[38;5;28;01mreturn\u001b[39;00m \u001b[43m_methods\u001b[49m\u001b[38;5;241;43m.\u001b[39;49m\u001b[43m_mean\u001b[49m\u001b[43m(\u001b[49m\u001b[43ma\u001b[49m\u001b[43m,\u001b[49m\u001b[43m \u001b[49m\u001b[43maxis\u001b[49m\u001b[38;5;241;43m=\u001b[39;49m\u001b[43maxis\u001b[49m\u001b[43m,\u001b[49m\u001b[43m \u001b[49m\u001b[43mdtype\u001b[49m\u001b[38;5;241;43m=\u001b[39;49m\u001b[43mdtype\u001b[49m\u001b[43m,\u001b[49m\n\u001b[1;32m   3505\u001b[0m \u001b[43m                      \u001b[49m\u001b[43mout\u001b[49m\u001b[38;5;241;43m=\u001b[39;49m\u001b[43mout\u001b[49m\u001b[43m,\u001b[49m\u001b[43m \u001b[49m\u001b[38;5;241;43m*\u001b[39;49m\u001b[38;5;241;43m*\u001b[39;49m\u001b[43mkwargs\u001b[49m\u001b[43m)\u001b[49m\n",
      "File \u001b[0;32m/opt/anaconda3/envs/py3-11-conformal/lib/python3.11/site-packages/numpy/core/_methods.py:101\u001b[0m, in \u001b[0;36m_mean\u001b[0;34m(a, axis, dtype, out, keepdims, where)\u001b[0m\n\u001b[1;32m     98\u001b[0m     \u001b[38;5;28;01melse\u001b[39;00m:\n\u001b[1;32m     99\u001b[0m         \u001b[38;5;28;01mreturn\u001b[39;00m um\u001b[38;5;241m.\u001b[39mclip(a, \u001b[38;5;28mmin\u001b[39m, \u001b[38;5;28mmax\u001b[39m, out\u001b[38;5;241m=\u001b[39mout, \u001b[38;5;241m*\u001b[39m\u001b[38;5;241m*\u001b[39mkwargs)\n\u001b[0;32m--> 101\u001b[0m \u001b[38;5;28;01mdef\u001b[39;00m \u001b[38;5;21m_mean\u001b[39m(a, axis\u001b[38;5;241m=\u001b[39m\u001b[38;5;28;01mNone\u001b[39;00m, dtype\u001b[38;5;241m=\u001b[39m\u001b[38;5;28;01mNone\u001b[39;00m, out\u001b[38;5;241m=\u001b[39m\u001b[38;5;28;01mNone\u001b[39;00m, keepdims\u001b[38;5;241m=\u001b[39m\u001b[38;5;28;01mFalse\u001b[39;00m, \u001b[38;5;241m*\u001b[39m, where\u001b[38;5;241m=\u001b[39m\u001b[38;5;28;01mTrue\u001b[39;00m):\n\u001b[1;32m    102\u001b[0m     arr \u001b[38;5;241m=\u001b[39m asanyarray(a)\n\u001b[1;32m    104\u001b[0m     is_float16_result \u001b[38;5;241m=\u001b[39m \u001b[38;5;28;01mFalse\u001b[39;00m\n",
      "\u001b[0;31mKeyboardInterrupt\u001b[0m: "
     ]
    },
    {
     "data": {
      "text/plain": [
       "<Figure size 5120x3840 with 0 Axes>"
      ]
     },
     "metadata": {},
     "output_type": "display_data"
    }
   ],
   "source": [
    "import io\n",
    "import os\n",
    "\n",
    "from openai import OpenAI\n",
    "import numpy as np\n",
    "\n",
    "from conformal.calibrate_thresh import analyze_dataset\n",
    "\n",
    "if __name__ == \"__main__\":\n",
    "    MODEL = \"gpt-4\"\n",
    "    REQUIRED_FRAC_CORRECT = 0.95\n",
    "    BREAKDOWN_PROMPT = \"Please breakdown the following input into a set of small, independent claims, and return the output as a jsonl, where each line is {subclaim:[CLAIM], gpt-score:[CONF]}.\\n The confidence score [CONF] should represent your confidence in the claim, where a 1 is obvious facts and results like 'The earth is round' and '1+1=2'. A 0 is for claims that are very obscure or difficult for anyone to know, like the birthdays of non-notable people. The input is: \"\n",
    "\n",
    "    ALPHA = 0.2\n",
    "    CONFIDENCE_METHOD = \"gpt\"\n",
    "\n",
    "    ALPHAS = np.arange(0.05, 0.40, 0.05)\n",
    "    CONFIDENCE_METHODS_RAW = [\n",
    "        \"gpt\",\n",
    "    ]\n",
    "    CONFIDENCE_METHODS_RANKING = [\n",
    "        \"gpt\",\n",
    "    ]\n",
    "\n",
    "    os.environ[\"OAI_KEY\"] = \"sk-_pSL15MBmIF02afSLRiYusibq-lx-KS1Po3mc_8pKGT3BlbkFJumYKRgCENnSHXbQu-BEgu32RSIgjX29FTB2Qs474MA\"\n",
    "    # Get Open AI key.\n",
    "    OAI_KEY = os.environ.get(\"OAI_KEY\")\n",
    "    if OAI_KEY is None:\n",
    "        raise ValueError(\n",
    "            \"OpenAI key is not set - please set OAI_KEY to your OpenAI key (with command: export OAI_KEY=[OAI_KEY])\"\n",
    "        )\n",
    "    OPENAI_CLIENT = OpenAI(api_key=OAI_KEY)\n",
    "\n",
    "\n",
    "    #not used as alrteady provide annotation\n",
    "    dataset_name = \"\"\n",
    "    dataset_prefix = \"popqa_llm\"\n",
    "\n",
    "    analyze_dataset(\n",
    "        dataset_prefix,\n",
    "        dataset_name,\n",
    "        OPENAI_CLIENT,\n",
    "        MODEL,\n",
    "        BREAKDOWN_PROMPT,\n",
    "        CONFIDENCE_METHOD,\n",
    "        CONFIDENCE_METHODS_RAW,\n",
    "        CONFIDENCE_METHODS_RANKING,\n",
    "        ALPHA,\n",
    "        ALPHAS,\n",
    "        REQUIRED_FRAC_CORRECT,\n",
    "        merge=False,\n",
    "        compute_single_threshold=True,\n",
    "        create_plots=True,\n",
    "        create_histogram=False,\n",
    "        calib=True,\n",
    "    )\n"
   ]
  },
  {
   "cell_type": "code",
   "execution_count": 1,
   "metadata": {},
   "outputs": [
    {
     "data": {
      "text/plain": [
       "True"
      ]
     },
     "execution_count": 1,
     "metadata": {},
     "output_type": "execute_result"
    }
   ],
   "source": [
    "from rag.faiss_manager import FAISSIndexManager\n",
    "\n",
    "fm = FAISSIndexManager()\n",
    "fm.is_indice_align()"
   ]
  }
 ],
 "metadata": {
  "kernelspec": {
   "display_name": "py3-11-conformal",
   "language": "python",
   "name": "python3"
  },
  "language_info": {
   "codemirror_mode": {
    "name": "ipython",
    "version": 3
   },
   "file_extension": ".py",
   "mimetype": "text/x-python",
   "name": "python",
   "nbconvert_exporter": "python",
   "pygments_lexer": "ipython3",
   "version": "3.11.11"
  }
 },
 "nbformat": 4,
 "nbformat_minor": 2
}
